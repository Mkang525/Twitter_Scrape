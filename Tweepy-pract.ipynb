{
 "cells": [
  {
   "cell_type": "markdown",
   "metadata": {},
   "source": [
    "From https://www.promptcloud.com/blog/scrape-twitter-data-using-python-r/"
   ]
  },
  {
   "cell_type": "code",
   "execution_count": 1,
   "metadata": {
    "ExecuteTime": {
     "end_time": "2021-01-23T13:59:27.843141Z",
     "start_time": "2021-01-23T13:59:27.840850Z"
    }
   },
   "outputs": [
    {
     "name": "stdout",
     "output_type": "stream",
     "text": [
      "Collecting tweepy\n",
      "  Downloading tweepy-3.10.0-py2.py3-none-any.whl (30 kB)\n",
      "Collecting requests-oauthlib>=0.7.0\n",
      "  Downloading requests_oauthlib-1.3.0-py2.py3-none-any.whl (23 kB)\n",
      "Requirement already satisfied: requests[socks]>=2.11.1 in /Users/emmalimoli/opt/anaconda3/envs/PythonData/lib/python3.8/site-packages (from tweepy) (2.24.0)\n",
      "Requirement already satisfied: six>=1.10.0 in /Users/emmalimoli/opt/anaconda3/envs/PythonData/lib/python3.8/site-packages (from tweepy) (1.15.0)\n",
      "Collecting oauthlib>=3.0.0\n",
      "  Downloading oauthlib-3.1.0-py2.py3-none-any.whl (147 kB)\n",
      "\u001b[K     |████████████████████████████████| 147 kB 891 kB/s eta 0:00:01\n",
      "\u001b[?25hRequirement already satisfied: certifi>=2017.4.17 in /Users/emmalimoli/opt/anaconda3/envs/PythonData/lib/python3.8/site-packages (from requests[socks]>=2.11.1->tweepy) (2020.6.20)\n",
      "Requirement already satisfied: chardet<4,>=3.0.2 in /Users/emmalimoli/opt/anaconda3/envs/PythonData/lib/python3.8/site-packages (from requests[socks]>=2.11.1->tweepy) (3.0.4)\n",
      "Requirement already satisfied: idna<3,>=2.5 in /Users/emmalimoli/opt/anaconda3/envs/PythonData/lib/python3.8/site-packages (from requests[socks]>=2.11.1->tweepy) (2.10)\n",
      "Requirement already satisfied: urllib3!=1.25.0,!=1.25.1,<1.26,>=1.21.1 in /Users/emmalimoli/opt/anaconda3/envs/PythonData/lib/python3.8/site-packages (from requests[socks]>=2.11.1->tweepy) (1.25.9)\n",
      "Collecting PySocks!=1.5.7,>=1.5.6; extra == \"socks\"\n",
      "  Downloading PySocks-1.7.1-py3-none-any.whl (16 kB)\n",
      "Installing collected packages: oauthlib, requests-oauthlib, tweepy, PySocks\n",
      "Successfully installed PySocks-1.7.1 oauthlib-3.1.0 requests-oauthlib-1.3.0 tweepy-3.10.0\n"
     ]
    }
   ],
   "source": [
    "!pip install tweepy"
   ]
  },
  {
   "cell_type": "code",
   "execution_count": 2,
   "metadata": {
    "ExecuteTime": {
     "end_time": "2021-01-23T13:59:27.849697Z",
     "start_time": "2021-01-23T13:59:27.844807Z"
    }
   },
   "outputs": [],
   "source": [
    "# !/usr/bin/python\n",
    "# -*- coding: utf-8 -*-\n",
    "\n",
    "import json\n",
    "\n",
    "# create a dictionary to store your twitter credentials\n",
    "\n",
    "twitter_cred = dict()\n",
    "\n",
    "# Enter your own consumer_key, consumer_secret, access_key and access_secret\n",
    "# Replacing the stars (\"********\")\n",
    "\n",
    "twitter_cred['CONSUMER_KEY'] = 'kEDyhzGwdiSWQoY9HXE37wvie'\n",
    "twitter_cred['CONSUMER_SECRET'] = 'RpTmOVKMC77mBdUbyEnSacIRGX1gycPN7nrf5pDke6FWiw1u9d'\n",
    "twitter_cred['ACCESS_KEY'] = '1355257540615913474-Uew31a4GMEDapwPH7Ttqxf0W1bjmXo'\n",
    "twitter_cred['ACCESS_SECRET'] = 'sJ6mVpNmQGcUXZAqpkMrE6TQpJGdiZzxopBESzJDNGCLA'\n",
    "\n",
    "# Save the information to a json so that it can be reused in code without exposing\n",
    "# the secret info to public\n",
    "\n",
    "with open('twitter_credentials.json', 'w') as secret_info:\n",
    "    json.dump(twitter_cred, secret_info, indent=4, sort_keys=True)"
   ]
  },
  {
   "cell_type": "code",
   "execution_count": 3,
   "metadata": {
    "ExecuteTime": {
     "end_time": "2021-01-23T13:59:27.986094Z",
     "start_time": "2021-01-23T13:59:27.851681Z"
    }
   },
   "outputs": [],
   "source": [
    "#!/usr/bin/python\n",
    "# -*- coding: utf-8 -*-\n",
    "\n",
    "import tweepy\n",
    "import csv\n",
    "import json\n",
    "\n",
    "# load Twitter API credentials\n",
    "\n",
    "with open('twitter_credentials.json') as cred_data:\n",
    "    info = json.load(cred_data)\n",
    "    consumer_key = info['CONSUMER_KEY']\n",
    "    consumer_secret = info['CONSUMER_SECRET']\n",
    "    access_key = info['ACCESS_KEY']\n",
    "    access_secret = info['ACCESS_SECRET']\n",
    "\n",
    "def get_all_tweets(screen_name):\n",
    "\n",
    "    # Twitter allows access to only 3240 tweets via this method\n",
    "\n",
    "    # Authorization and initialization\n",
    "\n",
    "    auth = tweepy.OAuthHandler(consumer_key, consumer_secret)\n",
    "    auth.set_access_token(access_key, access_secret)\n",
    "    api = tweepy.API(auth)\n",
    "\n",
    "    # initialization of a list to hold all Tweets\n",
    "\n",
    "    all_the_tweets = []\n",
    "\n",
    "    # We will get the tweets with multiple requests of 200 tweets each\n",
    "\n",
    "    new_tweets = api.user_timeline(screen_name=screen_name, count=200)\n",
    "\n",
    "    # saving the most recent tweets\n",
    "\n",
    "    all_the_tweets.extend(new_tweets)\n",
    "\n",
    "    # save id of 1 less than the oldest tweet\n",
    "\n",
    "    oldest_tweet = all_the_tweets[-1].id - 1\n",
    "\n",
    "    # grabbing tweets till none are left\n",
    "\n",
    "    while len(new_tweets) > 0:\n",
    "        # The max_id param will be used subsequently to prevent duplicates\n",
    "        new_tweets = api.user_timeline(screen_name=screen_name,\n",
    "        count=200, max_id=oldest_tweet)\n",
    "\n",
    "    # save most recent tweets\n",
    "\n",
    "        all_the_tweets.extend(new_tweets)\n",
    "\n",
    "        # id is updated to oldest tweet - 1 to keep track\n",
    "\n",
    "        oldest_tweet = all_the_tweets[-1].id - 1\n",
    "        print ('...%s tweets have been downloaded so far' % len(all_the_tweets))\n",
    "\n",
    "    # transforming the tweets into a 2D array that will be used to populate the csv\n",
    "\n",
    "        outtweets = [[tweet.id_str, tweet.created_at,\n",
    "        tweet.text.encode('utf-8')] for tweet in all_the_tweets]\n",
    "\n",
    "    # writing to the csv file\n",
    "\n",
    "    with open(screen_name + '_tweets.csv', 'w', encoding='utf8') as f:\n",
    "        writer = csv.writer(f)\n",
    "        writer.writerow(['id', 'created_at', 'text'])\n",
    "        writer.writerows(outtweets)\n",
    "\n",
    "    if __name__ == '__main__':\n",
    "\n",
    "    # Enter the twitter handle of the person concerned\n",
    "\n",
    "        get_all_tweets(input(\"Enter the twitter handle of the person whose tweets you want to download:- \"))"
   ]
  },
  {
   "cell_type": "code",
   "execution_count": null,
   "metadata": {
    "ExecuteTime": {
     "end_time": "2021-01-23T14:14:29.989363Z",
     "start_time": "2021-01-23T13:59:27.987675Z"
    }
   },
   "outputs": [
    {
     "name": "stdout",
     "output_type": "stream",
     "text": [
      "...393 tweets have been downloaded so far\n",
      "...582 tweets have been downloaded so far\n",
      "...767 tweets have been downloaded so far\n",
      "...960 tweets have been downloaded so far\n",
      "...1144 tweets have been downloaded so far\n",
      "...1334 tweets have been downloaded so far\n",
      "...1520 tweets have been downloaded so far\n",
      "...1704 tweets have been downloaded so far\n",
      "...1877 tweets have been downloaded so far\n",
      "...2068 tweets have been downloaded so far\n",
      "...2255 tweets have been downloaded so far\n",
      "...2425 tweets have been downloaded so far\n",
      "...2601 tweets have been downloaded so far\n",
      "...2778 tweets have been downloaded so far\n",
      "...2964 tweets have been downloaded so far\n",
      "...2992 tweets have been downloaded so far\n",
      "...2992 tweets have been downloaded so far\n",
      "Enter the twitter handle of the person whose tweets you want to download:- @cameronmonaghan\n",
      "...8 tweets have been downloaded so far\n",
      "Enter the twitter handle of the person whose tweets you want to download:- @noel_fisher\n",
      "...400 tweets have been downloaded so far\n",
      "...600 tweets have been downloaded so far\n",
      "...800 tweets have been downloaded so far\n",
      "...999 tweets have been downloaded so far\n",
      "...1197 tweets have been downloaded so far\n",
      "...1394 tweets have been downloaded so far\n",
      "...1589 tweets have been downloaded so far\n",
      "...1787 tweets have been downloaded so far\n",
      "...1986 tweets have been downloaded so far\n",
      "...2186 tweets have been downloaded so far\n",
      "...2386 tweets have been downloaded so far\n",
      "...2586 tweets have been downloaded so far\n",
      "...2786 tweets have been downloaded so far\n",
      "...2986 tweets have been downloaded so far\n",
      "...3185 tweets have been downloaded so far\n",
      "...3192 tweets have been downloaded so far\n",
      "...3192 tweets have been downloaded so far\n"
     ]
    }
   ],
   "source": [
    "get_all_tweets('@thetaneaa')"
   ]
  },
  {
   "cell_type": "code",
   "execution_count": null,
   "metadata": {},
   "outputs": [],
   "source": []
  },
  {
   "cell_type": "code",
   "execution_count": null,
   "metadata": {},
   "outputs": [],
   "source": []
  }
 ],
 "metadata": {
  "hide_input": false,
  "kernelspec": {
   "display_name": "Python 3",
   "language": "python",
   "name": "python3"
  },
  "language_info": {
   "codemirror_mode": {
    "name": "ipython",
    "version": 3
   },
   "file_extension": ".py",
   "mimetype": "text/x-python",
   "name": "python",
   "nbconvert_exporter": "python",
   "pygments_lexer": "ipython3",
   "version": "3.8.3"
  },
  "toc": {
   "base_numbering": 1,
   "nav_menu": {},
   "number_sections": true,
   "sideBar": true,
   "skip_h1_title": false,
   "title_cell": "Table of Contents",
   "title_sidebar": "Contents",
   "toc_cell": false,
   "toc_position": {},
   "toc_section_display": true,
   "toc_window_display": false
  },
  "varInspector": {
   "cols": {
    "lenName": 16,
    "lenType": 16,
    "lenVar": 40
   },
   "kernels_config": {
    "python": {
     "delete_cmd_postfix": "",
     "delete_cmd_prefix": "del ",
     "library": "var_list.py",
     "varRefreshCmd": "print(var_dic_list())"
    },
    "r": {
     "delete_cmd_postfix": ") ",
     "delete_cmd_prefix": "rm(",
     "library": "var_list.r",
     "varRefreshCmd": "cat(var_dic_list()) "
    }
   },
   "types_to_exclude": [
    "module",
    "function",
    "builtin_function_or_method",
    "instance",
    "_Feature"
   ],
   "window_display": false
  }
 },
 "nbformat": 4,
 "nbformat_minor": 2
}
